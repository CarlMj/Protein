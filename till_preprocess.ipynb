{
 "cells": [
  {
   "cell_type": "code",
   "execution_count": 7,
   "metadata": {},
   "outputs": [
    {
     "name": "stdout",
     "output_type": "stream",
     "text": [
      "D:\\User-Majid\\Projects\\DeepProtein\n"
     ]
    }
   ],
   "source": [
    "cd D:\\User-Majid\\Projects\\DeepProtein"
   ]
  },
  {
   "cell_type": "code",
   "execution_count": 27,
   "metadata": {},
   "outputs": [],
   "source": [
    "import pickle\n",
    "import random\n",
    "import keras\n",
    "from keras.preprocessing.text import Tokenizer\n",
    "import numpy as np"
   ]
  },
  {
   "cell_type": "code",
   "execution_count": 28,
   "metadata": {},
   "outputs": [
    {
     "data": {
      "text/plain": [
       "'1.16.0'"
      ]
     },
     "execution_count": 28,
     "metadata": {},
     "output_type": "execute_result"
    }
   ],
   "source": [
    "np.version.version"
   ]
  },
  {
   "cell_type": "code",
   "execution_count": 29,
   "metadata": {},
   "outputs": [],
   "source": [
    "f = open(\"data.pkl\", 'rb')\n",
    "rawProt = pickle.load(f)\n",
    "f.close()"
   ]
  },
  {
   "cell_type": "code",
   "execution_count": 31,
   "metadata": {},
   "outputs": [],
   "source": [
    "with open(\"labels.pkl\", 'rb') as f:\n",
    "  labels = pickle.load(f)\n",
    "\n",
    "labels = np.reshape(labels, 400000)"
   ]
  },
  {
   "cell_type": "code",
   "execution_count": 32,
   "metadata": {},
   "outputs": [
    {
     "name": "stdout",
     "output_type": "stream",
     "text": [
      "335112\n",
      "335112\n",
      "333071\n",
      "(333071,)\n",
      "uint8\n"
     ]
    }
   ],
   "source": [
    "prots = np.reshape(rawProt, 400000)\n",
    "#Here Im gonna remove the duplicates in the following pythonic way: unique = np.unique(array, axis=0)\n",
    "print(len(np.unique(prots)))\n",
    "prots, indices = np.unique(prots, return_index=True)\n",
    "labels = labels[indices]\n",
    "print(len(labels))\n",
    "#now remove the ones containing\n",
    "removals = ['B', 'J', 'O', 'U', 'X', 'Z']\n",
    "lst = []\n",
    "y = []\n",
    "for i in range(len(prots)):\n",
    "  if not(any(toberemoved in prots[i] for toberemoved in removals)):\n",
    "    lst.append(prots[i])\n",
    "    y.append(labels[i])\n",
    " \n",
    "print(len(lst))\n",
    "ppd = np.array(lst, dtype=object) #ppd for Polished Protein Data\n",
    "labels = np.array(y, dtype=np.uint8)\n",
    "del y\n",
    "print(ppd.shape)\n",
    "print(labels.dtype)"
   ]
  },
  {
   "cell_type": "code",
   "execution_count": 33,
   "metadata": {},
   "outputs": [],
   "source": [
    "#add space for the tokenizer's seperator\n",
    "def add_space(string):\n",
    "  return ' '.join(string)\n",
    "\n",
    "for i in range(len(ppd)):\n",
    "  ppd[i] = add_space(ppd[i])"
   ]
  },
  {
   "cell_type": "code",
   "execution_count": 34,
   "metadata": {},
   "outputs": [
    {
     "data": {
      "text/plain": [
       "list"
      ]
     },
     "execution_count": 34,
     "metadata": {},
     "output_type": "execute_result"
    }
   ],
   "source": [
    "alphabet = 'A C D E F G H I K L M N P Q R S T V W Y'\n",
    "t = Tokenizer(num_words=20, split=\" \")\n",
    "t.fit_on_texts([alphabet])\n",
    "seq = t.texts_to_sequences(ppd)\n",
    "type(seq)"
   ]
  },
  {
   "cell_type": "code",
   "execution_count": 35,
   "metadata": {},
   "outputs": [],
   "source": [
    "from keras.preprocessing.sequence import pad_sequences\n",
    "ppd = pad_sequences(seq, padding='post')"
   ]
  },
  {
   "cell_type": "code",
   "execution_count": 40,
   "metadata": {},
   "outputs": [
    {
     "data": {
      "text/plain": [
       "(333071, 12681)"
      ]
     },
     "execution_count": 40,
     "metadata": {},
     "output_type": "execute_result"
    }
   ],
   "source": [
    "del seq\n"
   ]
  },
  {
   "cell_type": "code",
   "execution_count": 54,
   "metadata": {},
   "outputs": [
    {
     "name": "stdout",
     "output_type": "stream",
     "text": [
      "{'a': 1, 'c': 2, 'd': 3, 'e': 4, 'f': 5, 'g': 6, 'h': 7, 'i': 8, 'k': 9, 'l': 10, 'm': 11, 'n': 12, 'p': 13, 'q': 14, 'r': 15, 's': 16, 't': 17, 'v': 18, 'w': 19, 'y': 20}\n",
      "int32 (333071, 12681)\n"
     ]
    }
   ],
   "source": [
    "print(t.word_index)\n",
    "print(ppd.dtype, ppd.shape)\n",
    "def one_hotter(arr):\n",
    "    hot = np.zeros((12681, 20))\n",
    "    for i in range(12681):\n",
    "        if arr[i] != 0:\n",
    "            hot[i, arr[i]-1] = 1\n",
    "    return hot\n",
    "\n",
    "def generator(array, labels, batch_size=12):\n",
    "     i = 0\n",
    "    while i <= 333061\n",
    "        subarray = array[i: i+12]\n",
    "        sublabels = labels[i: i+12]\n",
    "        one_hotted = np.apply_along_axis(one_hotter, axis=1, arr=subarray)\n",
    "        i = i + 10\n",
    "        yield one_hotted, sublabels "
   ]
  },
  {
   "cell_type": "code",
   "execution_count": 61,
   "metadata": {},
   "outputs": [
    {
     "name": "stdout",
     "output_type": "stream",
     "text": [
      "[0. 0. 0. 0. 0. 0. 0. 0. 0. 0. 0. 0. 1. 0. 0. 0. 0. 0. 0. 0.] (12, 12681, 20)\n",
      "13\n"
     ]
    }
   ],
   "source": [
    "ht = np.zeros((12681, 20))\n",
    "tst = ppd[0:12, :]\n",
    "a = np.apply_along_axis(one_hotter, axis=1, arr=tst)\n",
    "print(a[3, 5, :], a.shape)\n",
    "print(ppd[3, 5])"
   ]
  },
  {
   "cell_type": "code",
   "execution_count": 51,
   "metadata": {},
   "outputs": [
    {
     "name": "stdout",
     "output_type": "stream",
     "text": [
      "10\n"
     ]
    }
   ],
   "source": []
  },
  {
   "cell_type": "code",
   "execution_count": null,
   "metadata": {},
   "outputs": [],
   "source": []
  }
 ],
 "metadata": {
  "kernelspec": {
   "display_name": "Python 3",
   "language": "python",
   "name": "python3"
  },
  "language_info": {
   "codemirror_mode": {
    "name": "ipython",
    "version": 3
   },
   "file_extension": ".py",
   "mimetype": "text/x-python",
   "name": "python",
   "nbconvert_exporter": "python",
   "pygments_lexer": "ipython3",
   "version": "3.6.8"
  }
 },
 "nbformat": 4,
 "nbformat_minor": 2
}
